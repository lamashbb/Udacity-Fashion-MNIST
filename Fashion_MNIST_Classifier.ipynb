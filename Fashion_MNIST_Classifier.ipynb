{
 "cells": [
  {
   "cell_type": "code",
   "execution_count": 18,
   "metadata": {},
   "outputs": [],
   "source": [
    "import torch\n",
    "from torchvision import datasets, transforms\n",
    "\n",
    "# Define a transform to normalize the data\n",
    "transform = transforms.Compose([transforms.ToTensor(),\n",
    "                                transforms.Normalize((0.5,), (0.5,))])\n",
    "# Download and load the training data\n",
    "trainset = datasets.FashionMNIST('~/.pytorch/F_MNIST_data/', download=True, train=True, transform=transform)\n",
    "trainloader = torch.utils.data.DataLoader(trainset, batch_size=64, shuffle=True)\n",
    "\n",
    "# Download and load the test data\n",
    "testset = datasets.FashionMNIST('~/.pytorch/F_MNIST_data/', download=True, train=False, transform=transform)\n",
    "testloader = torch.utils.data.DataLoader(testset, batch_size=64, shuffle=True)"
   ]
  },
  {
   "cell_type": "code",
   "execution_count": 19,
   "metadata": {},
   "outputs": [
    {
     "data": {
      "image/png": "[encoded data removed]",
      "text/plain": [
       "<Figure size 432x288 with 1 Axes>"
      ]
     },
     "metadata": {
      "image/png": {
       "height": 231,
       "width": 231
      },
      "needs_background": "light"
     },
     "output_type": "display_data"
    }
   ],
   "source": [
    "# sample image\n",
    "image, label = next(iter(trainloader))\n",
    "helper.imshow(image[0,:]);"
   ]
  },
  {
   "cell_type": "code",
   "execution_count": 35,
   "metadata": {},
   "outputs": [],
   "source": [
    "from torch import nn, optim\n",
    "import torch.nn.functional as F\n",
    "\n",
    "class Network(nn.Module):\n",
    "    def __init__(self):\n",
    "        super().__init__()\n",
    "        self.fc1 = nn.Linear(784, 256)\n",
    "        self.fc2 = nn.Linear(256, 128)\n",
    "        self.fc3 = nn.Linear(128, 64)\n",
    "        self.fc4 = nn.Linear(64, 10)\n",
    "        \n",
    "        \n",
    "        self.dropout = nn.Dropout(p=0.2)\n",
    "            \n",
    "    def forward(self, x):\n",
    "        # make sure input tensor is flattened\n",
    "        x = x.view(x.shape[0], -1)\n",
    "        \n",
    "        x = self.dropout(F.relu(self.fc1(x)))\n",
    "        x = self.dropout(F.relu(self.fc2(x)))\n",
    "        x = self.dropout(F.relu(self.fc3(x)))\n",
    "        x = F.log_softmax(self.fc4(x), dim=1)\n",
    "        \n",
    "        return x"
   ]
  },
  {
   "cell_type": "code",
   "execution_count": 36,
   "metadata": {},
   "outputs": [
    {
     "name": "stdout",
     "output_type": "stream",
     "text": [
      "Epoch: 1/30..  Training Loss: 0.604..  Test Loss: 0.544..  Test Accuracy: 0.808\n",
      "Epoch: 2/30..  Training Loss: 0.485..  Test Loss: 0.498..  Test Accuracy: 0.824\n",
      "Epoch: 3/30..  Training Loss: 0.453..  Test Loss: 0.481..  Test Accuracy: 0.832\n",
      "Epoch: 4/30..  Training Loss: 0.440..  Test Loss: 0.523..  Test Accuracy: 0.823\n",
      "Epoch: 5/30..  Training Loss: 0.421..  Test Loss: 0.459..  Test Accuracy: 0.840\n",
      "Epoch: 6/30..  Training Loss: 0.415..  Test Loss: 0.482..  Test Accuracy: 0.836\n",
      "Epoch: 7/30..  Training Loss: 0.411..  Test Loss: 0.450..  Test Accuracy: 0.845\n",
      "Epoch: 8/30..  Training Loss: 0.398..  Test Loss: 0.478..  Test Accuracy: 0.838\n",
      "Epoch: 9/30..  Training Loss: 0.393..  Test Loss: 0.471..  Test Accuracy: 0.843\n",
      "Epoch: 10/30..  Training Loss: 0.398..  Test Loss: 0.482..  Test Accuracy: 0.845\n",
      "Epoch: 11/30..  Training Loss: 0.388..  Test Loss: 0.483..  Test Accuracy: 0.842\n",
      "Epoch: 12/30..  Training Loss: 0.389..  Test Loss: 0.475..  Test Accuracy: 0.841\n",
      "Epoch: 13/30..  Training Loss: 0.383..  Test Loss: 0.464..  Test Accuracy: 0.851\n",
      "Epoch: 14/30..  Training Loss: 0.380..  Test Loss: 0.473..  Test Accuracy: 0.844\n",
      "Epoch: 15/30..  Training Loss: 0.368..  Test Loss: 0.487..  Test Accuracy: 0.845\n",
      "Epoch: 16/30..  Training Loss: 0.373..  Test Loss: 0.444..  Test Accuracy: 0.853\n",
      "Epoch: 17/30..  Training Loss: 0.377..  Test Loss: 0.469..  Test Accuracy: 0.851\n",
      "Epoch: 18/30..  Training Loss: 0.360..  Test Loss: 0.472..  Test Accuracy: 0.851\n",
      "Epoch: 19/30..  Training Loss: 0.362..  Test Loss: 0.462..  Test Accuracy: 0.846\n",
      "Epoch: 20/30..  Training Loss: 0.360..  Test Loss: 0.456..  Test Accuracy: 0.847\n",
      "Epoch: 21/30..  Training Loss: 0.363..  Test Loss: 0.453..  Test Accuracy: 0.854\n",
      "Epoch: 22/30..  Training Loss: 0.365..  Test Loss: 0.467..  Test Accuracy: 0.850\n",
      "Epoch: 23/30..  Training Loss: 0.352..  Test Loss: 0.465..  Test Accuracy: 0.856\n",
      "Epoch: 24/30..  Training Loss: 0.363..  Test Loss: 0.461..  Test Accuracy: 0.852\n",
      "Epoch: 25/30..  Training Loss: 0.351..  Test Loss: 0.455..  Test Accuracy: 0.855\n",
      "Epoch: 26/30..  Training Loss: 0.350..  Test Loss: 0.448..  Test Accuracy: 0.860\n",
      "Epoch: 27/30..  Training Loss: 0.349..  Test Loss: 0.489..  Test Accuracy: 0.851\n",
      "Epoch: 28/30..  Training Loss: 0.340..  Test Loss: 0.462..  Test Accuracy: 0.855\n",
      "Epoch: 29/30..  Training Loss: 0.350..  Test Loss: 0.481..  Test Accuracy: 0.850\n",
      "Epoch: 30/30..  Training Loss: 0.343..  Test Loss: 0.440..  Test Accuracy: 0.861\n"
     ]
    }
   ],
   "source": [
    "# train and test\n",
    "model = Network()\n",
    "criterion = nn.NLLLoss()\n",
    "optimizer = optim.Adam(model.parameters(), lr=0.003)\n",
    "\n",
    "epochs = 30\n",
    "steps = 0\n",
    "\n",
    "train_losses, test_losses = [], []\n",
    "\n",
    "for e in range(epochs):\n",
    "    running_loss = 0\n",
    "    for images, labels in trainloader:\n",
    "        \n",
    "        optimizer.zero_grad()\n",
    "        \n",
    "        log_ps = model(images)\n",
    "        loss = criterion(log_ps, labels)\n",
    "        loss.backward()\n",
    "        optimizer.step()\n",
    "        \n",
    "        running_loss += loss.item()\n",
    "        \n",
    "    else:\n",
    "        test_loss = 0\n",
    "        accuracy = 0\n",
    "        ## TODO: Implement the validation pass and print out the validation accuracy\n",
    "        with torch.no_grad():\n",
    "            for images, labels in testloader:\n",
    "                log_ps = model(images)\n",
    "                test_loss += criterion(log_ps, labels)\n",
    "                ps = torch.exp(log_ps)\n",
    "                top_p, top_class = ps.topk(1, dim=1)\n",
    "                equals = top_class == labels.view(*top_class.shape)\n",
    "                accuracy += torch.mean(equals.type(torch.FloatTensor))\n",
    "        train_losses.append(running_loss/len(trainloader))\n",
    "        test_losses.append(test_loss/len(testloader))\n",
    "\n",
    "        print(\"Epoch: {}/{}.. \".format(e+1, epochs),\n",
    "              \"Training Loss: {:.3f}.. \".format(running_loss/len(trainloader)),\n",
    "              \"Test Loss: {:.3f}.. \".format(test_loss/len(testloader)),\n",
    "              \"Test Accuracy: {:.3f}\".format(accuracy/len(testloader)))"
   ]
  },
  {
   "cell_type": "code",
   "execution_count": 38,
   "metadata": {},
   "outputs": [
    {
     "data": {
      "image/png": "[encoded data removed]",
      "text/plain": [
       "<Figure size 432x648 with 2 Axes>"
      ]
     },
     "metadata": {
      "image/png": {
       "height": 216,
       "width": 424
      },
      "needs_background": "light"
     },
     "output_type": "display_data"
    }
   ],
   "source": [
    "# inference\n",
    "import helper\n",
    "\n",
    "# test out\n",
    "\n",
    "model.eval()\n",
    "\n",
    "dataiter = iter(testloader)\n",
    "images, labels = dataiter.next()\n",
    "img = images[0]\n",
    "img = img.view(1, 784)\n",
    "\n",
    "# class probabilities (softmax) for img\n",
    "with torch.no_grad():\n",
    "    output = model.forward(img)\n",
    "\n",
    "ps = torch.exp(output)\n",
    "\n",
    "# plot\n",
    "helper.view_classify(img.view(1, 28, 28), ps, version='Fashion')"
   ]
  }
 ],
 "metadata": {
  "kernelspec": {
   "display_name": "Python 3",
   "language": "python",
   "name": "python3"
  },
  "language_info": {
   "codemirror_mode": {
    "name": "ipython",
    "version": 3
   },
   "file_extension": ".py",
   "mimetype": "text/x-python",
   "name": "python",
   "nbconvert_exporter": "python",
   "pygments_lexer": "ipython3",
   "version": "3.7.6"
  }
 },
 "nbformat": 4,
 "nbformat_minor": 4
}
